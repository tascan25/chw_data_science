{
 "cells": [
  {
   "cell_type": "markdown",
   "id": "0519e73e-f010-4c34-a541-bd381b8923c4",
   "metadata": {},
   "source": [
    "## numpy vs list speed test"
   ]
  },
  {
   "cell_type": "code",
   "execution_count": 1,
   "id": "14f16b58-8d66-4a2a-b5df-096d667c71ff",
   "metadata": {},
   "outputs": [],
   "source": [
    "import numpy as np\n",
    "import time"
   ]
  },
  {
   "cell_type": "code",
   "execution_count": 2,
   "id": "e2ff2595-345a-407a-b791-0c62339cc1e1",
   "metadata": {},
   "outputs": [
    {
     "name": "stdout",
     "output_type": "stream",
     "text": [
      "using pyhton list\n",
      "0.049263954162597656\n"
     ]
    }
   ],
   "source": [
    "print(\"using pyhton list\")\n",
    "size = 1_000_000\n",
    "\n",
    "\n",
    "l1= list(range(size))\n",
    "l2 = list(range(size))\n",
    "\n",
    "start = time.time()\n",
    "add = [x+y for x,y in zip(l1,l2)]\n",
    "\n",
    "end = time.time()\n",
    "\n",
    "print(end-start)"
   ]
  },
  {
   "cell_type": "code",
   "execution_count": 3,
   "id": "8fc60b03-a588-4894-a8bd-601aa438d584",
   "metadata": {},
   "outputs": [
    {
     "name": "stdout",
     "output_type": "stream",
     "text": [
      "using python numpy arrays\n",
      "0.006790876388549805\n"
     ]
    }
   ],
   "source": [
    "print(\"using python numpy arrays\")\n",
    "\n",
    "size = 1_000_000\n",
    "l1 = np.array(list(range(size)))\n",
    "l2 = np.array(list(range(size)))\n",
    "\n",
    "start = time.time()\n",
    "add = l1+l2\n",
    "\n",
    "end = time.time()\n",
    "\n",
    "print(end-start)"
   ]
  },
  {
   "cell_type": "code",
   "execution_count": 4,
   "id": "7facf683-e924-458b-a0ce-bc446fd54cc3",
   "metadata": {},
   "outputs": [
    {
     "name": "stdout",
     "output_type": "stream",
     "text": [
      "checkin g the storage consuptaions\n",
      "python list size: 8056000 bytes\n",
      "python numpy array size: 8000 bytes\n"
     ]
    }
   ],
   "source": [
    "print(\"checkin g the storage consuptaions\")\n",
    "import sys \n",
    "list_data = list(range(1000))\n",
    "numpy_data = np.array(list_data)\n",
    "\n",
    "print(f\"python list size: {sys.getsizeof(list_data)*len(list_data)} bytes\")\n",
    "print(f\"python numpy array size: {numpy_data.nbytes} bytes\")"
   ]
  },
  {
   "cell_type": "code",
   "execution_count": 5,
   "id": "cb023abc-d04d-4e2b-8ab3-20a9ab11d944",
   "metadata": {},
   "outputs": [
    {
     "name": "stdout",
     "output_type": "stream",
     "text": [
      "the final time check\n",
      "list time: 3.409385681152344e-05\n",
      "numpy time: 3.5762786865234375e-05\n"
     ]
    }
   ],
   "source": [
    "print(\"the final time check\")\n",
    "\n",
    "start_1 = time.time()\n",
    "list_sqr = [x**2 for x in list(range(100))]\n",
    "end_1 = time.time()\n",
    "\n",
    "print(f\"list time: {end_1 - start_1}\")\n",
    "\n",
    "start_2 = time.time()\n",
    "numpy_sqr = np.array(list(range(100)))**2\n",
    "end_2 = time.time()\n",
    "\n",
    "print(f\"numpy time: {end_2 - start_2}\")\n"
   ]
  },
  {
   "cell_type": "markdown",
   "id": "f6a22356-8417-41b1-88d9-93feb645cea1",
   "metadata": {},
   "source": [
    "# CREATING NUMPY ARRAYS "
   ]
  },
  {
   "cell_type": "code",
   "execution_count": 6,
   "id": "f5f4ffa0-afe6-45a2-ae49-4f1a7d61507a",
   "metadata": {},
   "outputs": [
    {
     "name": "stdout",
     "output_type": "stream",
     "text": [
      "[1 2 3 4 5 6]\n",
      "[[1 2 3]\n",
      " [4 5 6]]\n"
     ]
    }
   ],
   "source": [
    "arr1 = np.array([1,2,3,4,5,6])\n",
    "arr2 = np.array([[1,2,3],[4,5,6]])\n",
    "\n",
    "print(arr1)\n",
    "print(arr2)"
   ]
  },
  {
   "cell_type": "code",
   "execution_count": 7,
   "id": "0dc7cee2-8afb-4415-a6e4-c02736d33de0",
   "metadata": {},
   "outputs": [
    {
     "data": {
      "text/plain": [
       "array([[0., 0., 0., 0.],\n",
       "       [0., 0., 0., 0.],\n",
       "       [0., 0., 0., 0.]])"
      ]
     },
     "execution_count": 7,
     "metadata": {},
     "output_type": "execute_result"
    }
   ],
   "source": [
    "np.zeros((3,4))"
   ]
  },
  {
   "cell_type": "code",
   "execution_count": 8,
   "id": "44b876df-e7d0-45de-80e8-60f41b462c46",
   "metadata": {},
   "outputs": [
    {
     "data": {
      "text/plain": [
       "array([[1., 1., 1., 1., 1.],\n",
       "       [1., 1., 1., 1., 1.],\n",
       "       [1., 1., 1., 1., 1.]])"
      ]
     },
     "execution_count": 8,
     "metadata": {},
     "output_type": "execute_result"
    }
   ],
   "source": [
    "np.ones((3,5))"
   ]
  },
  {
   "cell_type": "code",
   "execution_count": 9,
   "id": "b6652374-9ac0-4f7b-8c5d-164189352e99",
   "metadata": {},
   "outputs": [
    {
     "data": {
      "text/plain": [
       "array([[8, 8, 8, 8, 8, 8],\n",
       "       [8, 8, 8, 8, 8, 8],\n",
       "       [8, 8, 8, 8, 8, 8],\n",
       "       [8, 8, 8, 8, 8, 8]])"
      ]
     },
     "execution_count": 9,
     "metadata": {},
     "output_type": "execute_result"
    }
   ],
   "source": [
    "np.full((4,6),8)"
   ]
  },
  {
   "cell_type": "code",
   "execution_count": 10,
   "id": "530dbbdd-c004-489a-8210-461e9712995a",
   "metadata": {},
   "outputs": [
    {
     "data": {
      "text/plain": [
       "array([[1., 0., 0., 0.],\n",
       "       [0., 1., 0., 0.],\n",
       "       [0., 0., 1., 0.],\n",
       "       [0., 0., 0., 1.]])"
      ]
     },
     "execution_count": 10,
     "metadata": {},
     "output_type": "execute_result"
    }
   ],
   "source": [
    "np.eye(4)"
   ]
  },
  {
   "cell_type": "code",
   "execution_count": 11,
   "id": "f267f36c-73d9-430c-90f4-0219f0c6fe32",
   "metadata": {},
   "outputs": [
    {
     "data": {
      "text/plain": [
       "array([ 1, 10, 19, 28, 37, 46, 55, 64, 73, 82, 91])"
      ]
     },
     "execution_count": 11,
     "metadata": {},
     "output_type": "execute_result"
    }
   ],
   "source": [
    "np.arange(1,100,9) #1->99 but adding 9 to each element after the first one !!"
   ]
  },
  {
   "cell_type": "code",
   "execution_count": 12,
   "id": "18deafe0-6b60-4bab-b94d-fbd227087bb1",
   "metadata": {},
   "outputs": [
    {
     "data": {
      "text/plain": [
       "array([0.  , 0.25, 0.5 , 0.75, 1.  ])"
      ]
     },
     "execution_count": 12,
     "metadata": {},
     "output_type": "execute_result"
    }
   ],
   "source": [
    "np.linspace(0,1,5)  #generate equally spaced array"
   ]
  },
  {
   "cell_type": "code",
   "execution_count": 14,
   "id": "0033b0aa-9d7d-4456-909b-a3128dec3df7",
   "metadata": {},
   "outputs": [
    {
     "data": {
      "text/plain": [
       "array([[ 1,  2,  3],\n",
       "       [ 4,  5,  6],\n",
       "       [ 7,  8,  9],\n",
       "       [10, 11, 12]])"
      ]
     },
     "execution_count": 14,
     "metadata": {},
     "output_type": "execute_result"
    }
   ],
   "source": [
    "myarr = np.array([[1,2,3],[4,5,6],[7,8,9],[10,11,12]])\n",
    "myarr"
   ]
  },
  {
   "cell_type": "code",
   "execution_count": 16,
   "id": "3e8ddf66-756b-49cc-ac3b-a5c2f29c4bdc",
   "metadata": {},
   "outputs": [
    {
     "data": {
      "text/plain": [
       "(4, 3)"
      ]
     },
     "execution_count": 16,
     "metadata": {},
     "output_type": "execute_result"
    }
   ],
   "source": [
    "myarr.shape"
   ]
  },
  {
   "cell_type": "code",
   "execution_count": 17,
   "id": "5bf5f473-8b72-41b6-8139-8717e2747e36",
   "metadata": {},
   "outputs": [
    {
     "data": {
      "text/plain": [
       "12"
      ]
     },
     "execution_count": 17,
     "metadata": {},
     "output_type": "execute_result"
    }
   ],
   "source": [
    "myarr.size"
   ]
  },
  {
   "cell_type": "code",
   "execution_count": 18,
   "id": "3e5212d6-bf2d-422c-9d68-9837d0855d6b",
   "metadata": {},
   "outputs": [
    {
     "data": {
      "text/plain": [
       "2"
      ]
     },
     "execution_count": 18,
     "metadata": {},
     "output_type": "execute_result"
    }
   ],
   "source": [
    "myarr.ndim"
   ]
  },
  {
   "cell_type": "code",
   "execution_count": 19,
   "id": "4ef1948e-91b2-4f4b-a3ed-63afce2023ff",
   "metadata": {},
   "outputs": [
    {
     "data": {
      "text/plain": [
       "dtype('int64')"
      ]
     },
     "execution_count": 19,
     "metadata": {},
     "output_type": "execute_result"
    }
   ],
   "source": [
    "myarr.dtype"
   ]
  },
  {
   "cell_type": "code",
   "execution_count": 20,
   "id": "fd1bfc0b-6791-42e1-a111-80db9f8b4722",
   "metadata": {},
   "outputs": [
    {
     "data": {
      "text/plain": [
       "array([[ 1.,  2.,  3.],\n",
       "       [ 4.,  5.,  6.],\n",
       "       [ 7.,  8.,  9.],\n",
       "       [10., 11., 12.]], dtype=float32)"
      ]
     },
     "execution_count": 20,
     "metadata": {},
     "output_type": "execute_result"
    }
   ],
   "source": [
    "myarr = np.array([[1,2,3],[4,5,6],[7,8,9],[10,11,12]],dtype=\"float32\")\n",
    "myarr"
   ]
  },
  {
   "cell_type": "code",
   "execution_count": 21,
   "id": "494f0b88-b789-474d-8405-dd5d66e10d7e",
   "metadata": {},
   "outputs": [
    {
     "data": {
      "text/plain": [
       "dtype('float32')"
      ]
     },
     "execution_count": 21,
     "metadata": {},
     "output_type": "execute_result"
    }
   ],
   "source": [
    "myarr.dtype"
   ]
  },
  {
   "cell_type": "code",
   "execution_count": 22,
   "id": "d162b2b4-955b-4c38-b7e1-523cb6723c09",
   "metadata": {},
   "outputs": [
    {
     "data": {
      "text/plain": [
       "array([[ 1,  2,  3],\n",
       "       [ 4,  5,  6],\n",
       "       [ 7,  8,  9],\n",
       "       [10, 11, 12]])"
      ]
     },
     "execution_count": 22,
     "metadata": {},
     "output_type": "execute_result"
    }
   ],
   "source": [
    "myarr = np.array([[1,2,3],[4,5,6],[7,8,9],[10,11,12]])\n",
    "myarr"
   ]
  },
  {
   "cell_type": "code",
   "execution_count": 23,
   "id": "604657cc-4281-4f1e-a1b9-1d7d047d719f",
   "metadata": {},
   "outputs": [
    {
     "data": {
      "text/plain": [
       "(4, 3)"
      ]
     },
     "execution_count": 23,
     "metadata": {},
     "output_type": "execute_result"
    }
   ],
   "source": [
    "myarr.shape"
   ]
  },
  {
   "cell_type": "code",
   "execution_count": 24,
   "id": "49a0d35e-08c4-4af1-af39-c6d43a55ac52",
   "metadata": {},
   "outputs": [],
   "source": [
    "reshape = myarr.reshape(3,4)"
   ]
  },
  {
   "cell_type": "code",
   "execution_count": 25,
   "id": "ffb346d5-9415-4a26-909a-ccc1f2e6b187",
   "metadata": {},
   "outputs": [
    {
     "data": {
      "text/plain": [
       "array([[ 1,  2,  3,  4],\n",
       "       [ 5,  6,  7,  8],\n",
       "       [ 9, 10, 11, 12]])"
      ]
     },
     "execution_count": 25,
     "metadata": {},
     "output_type": "execute_result"
    }
   ],
   "source": [
    "reshape"
   ]
  },
  {
   "cell_type": "code",
   "execution_count": 26,
   "id": "0bc8a8b4-744c-467a-b59e-94989eccc092",
   "metadata": {},
   "outputs": [
    {
     "data": {
      "text/plain": [
       "array([[ 1,  2,  3,  4,  5,  6],\n",
       "       [ 7,  8,  9, 10, 11, 12]])"
      ]
     },
     "execution_count": 26,
     "metadata": {},
     "output_type": "execute_result"
    }
   ],
   "source": [
    "reshape.reshape(2,6)\n"
   ]
  },
  {
   "cell_type": "code",
   "execution_count": 28,
   "id": "661213ab-69aa-4890-ab58-a43f9045a401",
   "metadata": {},
   "outputs": [
    {
     "data": {
      "text/plain": [
       "array([ 1,  2,  3,  4,  5,  6,  7,  8,  9, 10, 11, 12])"
      ]
     },
     "execution_count": 28,
     "metadata": {},
     "output_type": "execute_result"
    }
   ],
   "source": [
    "reshape.flatten()"
   ]
  },
  {
   "cell_type": "markdown",
   "id": "ecf2c3c3-9f43-46ed-b0cf-168cd3976e9c",
   "metadata": {},
   "source": [
    "# INDEXING AND SLICING IN A NUMPY ARRAY"
   ]
  },
  {
   "cell_type": "code",
   "execution_count": 1,
   "id": "741d86a6-f4dd-430f-be89-0868ed77823a",
   "metadata": {},
   "outputs": [],
   "source": [
    "import numpy as np"
   ]
  },
  {
   "cell_type": "code",
   "execution_count": 2,
   "id": "3734d113-3c76-4180-8344-5feb4986cecd",
   "metadata": {},
   "outputs": [],
   "source": [
    "arr = np.array([[1,2,3],[4,5,6],[7,8,9],[10,11,12]])"
   ]
  },
  {
   "cell_type": "code",
   "execution_count": 3,
   "id": "2f845077-b301-4a12-8995-3248b134ad65",
   "metadata": {},
   "outputs": [
    {
     "data": {
      "text/plain": [
       "array([[ 1,  2,  3],\n",
       "       [ 4,  5,  6],\n",
       "       [ 7,  8,  9],\n",
       "       [10, 11, 12]])"
      ]
     },
     "execution_count": 3,
     "metadata": {},
     "output_type": "execute_result"
    }
   ],
   "source": [
    "arr"
   ]
  },
  {
   "cell_type": "code",
   "execution_count": 4,
   "id": "9ece1aba-dfec-405d-882d-b93b636997e4",
   "metadata": {},
   "outputs": [],
   "source": [
    "flat = arr.flatten()"
   ]
  },
  {
   "cell_type": "code",
   "execution_count": 5,
   "id": "64f5a65e-6f52-4e59-9423-ea566ec17ec5",
   "metadata": {},
   "outputs": [
    {
     "data": {
      "text/plain": [
       "array([ 1,  2,  3,  4,  5,  6,  7,  8,  9, 10, 11, 12])"
      ]
     },
     "execution_count": 5,
     "metadata": {},
     "output_type": "execute_result"
    }
   ],
   "source": [
    "flat"
   ]
  },
  {
   "cell_type": "code",
   "execution_count": 6,
   "id": "adde4ae7-881b-418f-8ab2-a334839b3f5c",
   "metadata": {},
   "outputs": [
    {
     "data": {
      "text/plain": [
       "1"
      ]
     },
     "execution_count": 6,
     "metadata": {},
     "output_type": "execute_result"
    }
   ],
   "source": [
    "flat[0]"
   ]
  },
  {
   "cell_type": "code",
   "execution_count": 7,
   "id": "8d4a443a-83b1-47fb-beb0-4a7061253a7c",
   "metadata": {},
   "outputs": [
    {
     "data": {
      "text/plain": [
       "4"
      ]
     },
     "execution_count": 7,
     "metadata": {},
     "output_type": "execute_result"
    }
   ],
   "source": [
    "flat[3]"
   ]
  },
  {
   "cell_type": "code",
   "execution_count": 8,
   "id": "2c3dde42-3d1d-4553-889f-41bd05706361",
   "metadata": {},
   "outputs": [
    {
     "data": {
      "text/plain": [
       "array([4, 5, 6])"
      ]
     },
     "execution_count": 8,
     "metadata": {},
     "output_type": "execute_result"
    }
   ],
   "source": [
    "flat[3:6]"
   ]
  },
  {
   "cell_type": "code",
   "execution_count": 9,
   "id": "8642764d-d5bb-4379-ae16-ce5642d26802",
   "metadata": {},
   "outputs": [
    {
     "data": {
      "text/plain": [
       "array([1, 2, 3, 4, 5])"
      ]
     },
     "execution_count": 9,
     "metadata": {},
     "output_type": "execute_result"
    }
   ],
   "source": [
    "flat[:5]"
   ]
  },
  {
   "cell_type": "code",
   "execution_count": 10,
   "id": "e6492049-4e83-4d2a-992a-b9cb9f92dc73",
   "metadata": {},
   "outputs": [
    {
     "data": {
      "text/plain": [
       "array([ 4,  5,  6,  7,  8,  9, 10, 11, 12])"
      ]
     },
     "execution_count": 10,
     "metadata": {},
     "output_type": "execute_result"
    }
   ],
   "source": [
    "flat[3:]"
   ]
  },
  {
   "cell_type": "code",
   "execution_count": 11,
   "id": "417f9dd5-c698-4e36-8b73-077e4ef281e9",
   "metadata": {},
   "outputs": [
    {
     "data": {
      "text/plain": [
       "array([ 1,  3,  5,  7,  9, 11])"
      ]
     },
     "execution_count": 11,
     "metadata": {},
     "output_type": "execute_result"
    }
   ],
   "source": [
    "flat[::2]  #every second element of the numpy array "
   ]
  },
  {
   "cell_type": "code",
   "execution_count": 12,
   "id": "67f64fa3-a6a4-4b25-878a-5d9c1565dba1",
   "metadata": {},
   "outputs": [
    {
     "data": {
      "text/plain": [
       "array([ 1,  2,  3,  4,  5,  6,  7,  8,  9, 10, 11, 12])"
      ]
     },
     "execution_count": 12,
     "metadata": {},
     "output_type": "execute_result"
    }
   ],
   "source": [
    "flat "
   ]
  },
  {
   "cell_type": "code",
   "execution_count": 13,
   "id": "549c4bcd-1135-4b26-95ed-82149e8281b3",
   "metadata": {},
   "outputs": [
    {
     "data": {
      "text/plain": [
       "array([4, 5, 6, 7])"
      ]
     },
     "execution_count": 13,
     "metadata": {},
     "output_type": "execute_result"
    }
   ],
   "source": [
    "b = flat[3:7]\n",
    "b"
   ]
  },
  {
   "cell_type": "code",
   "execution_count": 14,
   "id": "5ef9ee40-36ab-4b1a-9411-a80925275c82",
   "metadata": {},
   "outputs": [],
   "source": [
    "b[0] = 444444"
   ]
  },
  {
   "cell_type": "code",
   "execution_count": 15,
   "id": "b7383922-213a-4a66-a905-fa2635a80254",
   "metadata": {},
   "outputs": [
    {
     "data": {
      "text/plain": [
       "array([444444,      5,      6,      7])"
      ]
     },
     "execution_count": 15,
     "metadata": {},
     "output_type": "execute_result"
    }
   ],
   "source": [
    "b"
   ]
  },
  {
   "cell_type": "code",
   "execution_count": 16,
   "id": "622c4cd5-ec8f-4049-8715-f3b5a23787e9",
   "metadata": {},
   "outputs": [
    {
     "data": {
      "text/plain": [
       "array([     1,      2,      3, 444444,      5,      6,      7,      8,\n",
       "            9,     10,     11,     12])"
      ]
     },
     "execution_count": 16,
     "metadata": {},
     "output_type": "execute_result"
    }
   ],
   "source": [
    "flat"
   ]
  },
  {
   "cell_type": "code",
   "execution_count": 17,
   "id": "f4ecf597-7a90-4db6-b923-e545f1c61b8c",
   "metadata": {},
   "outputs": [],
   "source": [
    "c = flat[3:7].copy()"
   ]
  },
  {
   "cell_type": "code",
   "execution_count": 18,
   "id": "7dad932a-df9c-4d71-9376-3c18cc3c4d34",
   "metadata": {},
   "outputs": [
    {
     "data": {
      "text/plain": [
       "array([444444,      5,      6,      7])"
      ]
     },
     "execution_count": 18,
     "metadata": {},
     "output_type": "execute_result"
    }
   ],
   "source": [
    "c"
   ]
  },
  {
   "cell_type": "code",
   "execution_count": 19,
   "id": "02fd4279-eb19-458e-acb8-d0200fc85394",
   "metadata": {},
   "outputs": [],
   "source": [
    "c[0] = 567"
   ]
  },
  {
   "cell_type": "code",
   "execution_count": 21,
   "id": "2f791db3-1455-4d5e-9b06-93e17ebb6ba2",
   "metadata": {},
   "outputs": [
    {
     "data": {
      "text/plain": [
       "array([567,   5,   6,   7])"
      ]
     },
     "execution_count": 21,
     "metadata": {},
     "output_type": "execute_result"
    }
   ],
   "source": [
    "c"
   ]
  },
  {
   "cell_type": "code",
   "execution_count": 22,
   "id": "064e10fc-86b0-4649-aab3-b6a82bac340b",
   "metadata": {},
   "outputs": [
    {
     "data": {
      "text/plain": [
       "array([     1,      2,      3, 444444,      5,      6,      7,      8,\n",
       "            9,     10,     11,     12])"
      ]
     },
     "execution_count": 22,
     "metadata": {},
     "output_type": "execute_result"
    }
   ],
   "source": [
    "flat"
   ]
  },
  {
   "cell_type": "code",
   "execution_count": 23,
   "id": "a286ed7b-bbc0-4e3e-9a88-6a965a02fd69",
   "metadata": {},
   "outputs": [],
   "source": [
    "arr2 = np.array([1,54,23,53,2,3,34,5,6])\n",
    "\n",
    "idx = [1,4,6]"
   ]
  },
  {
   "cell_type": "code",
   "execution_count": 24,
   "id": "964a4ae2-3f95-4bdc-bb11-1ab00ca6d552",
   "metadata": {},
   "outputs": [
    {
     "data": {
      "text/plain": [
       "array([54,  2, 34])"
      ]
     },
     "execution_count": 24,
     "metadata": {},
     "output_type": "execute_result"
    }
   ],
   "source": [
    "arr2[idx]"
   ]
  },
  {
   "cell_type": "code",
   "execution_count": 25,
   "id": "665c6303-dadb-42da-82d7-54028276d747",
   "metadata": {},
   "outputs": [
    {
     "data": {
      "text/plain": [
       "array([54, 23, 53, 34,  5,  6])"
      ]
     },
     "execution_count": 25,
     "metadata": {},
     "output_type": "execute_result"
    }
   ],
   "source": [
    "#boolean masking \n",
    "\n",
    "arr2[arr2>3]"
   ]
  },
  {
   "cell_type": "markdown",
   "id": "d0579634-ee1f-4c75-8235-451716afa0cb",
   "metadata": {},
   "source": [
    "# EXCERCISE "
   ]
  },
  {
   "cell_type": "code",
   "execution_count": 29,
   "id": "926fc0a8-f24b-45f6-b203-43b60e06450c",
   "metadata": {},
   "outputs": [
    {
     "name": "stdout",
     "output_type": "stream",
     "text": [
      "[[35  1 97]\n",
      " [46 17  9]\n",
      " [74  4 93]]\n",
      "(3, 3)\n"
     ]
    }
   ],
   "source": [
    "# Create a 3×3 array filled with random numbers and print its shape.\n",
    "\n",
    "arr_3by3 = np.random.randint(0,100,size=(3,3))\n",
    "print(arr_3by3)\n",
    "print(arr_3by3.shape)"
   ]
  },
  {
   "cell_type": "code",
   "execution_count": 30,
   "id": "a8785ef8-4adc-4101-85b6-21623ad8e420",
   "metadata": {},
   "outputs": [
    {
     "data": {
      "text/plain": [
       "array([1, 2, 3])"
      ]
     },
     "execution_count": 30,
     "metadata": {},
     "output_type": "execute_result"
    }
   ],
   "source": [
    "# Convert an array of floats [1.1, 2.2, 3.3] into integers.\n",
    "\n",
    "arr_floattoint = np.array([1.1,2.2,3.3],dtype=\"int\")\n",
    "arr_floattoint "
   ]
  },
  {
   "cell_type": "code",
   "execution_count": 32,
   "id": "f3995fdf-00d4-404d-8d5a-e73dbe35cc67",
   "metadata": {},
   "outputs": [
    {
     "data": {
      "text/plain": [
       "array([2, 4, 6])"
      ]
     },
     "execution_count": 32,
     "metadata": {},
     "output_type": "execute_result"
    }
   ],
   "source": [
    "# Use fancy indexing to extract even numbers from [1, 2, 3, 4, 5, 6].\n",
    "arr_fancy = np.array([1,2,3,4,5,6])\n",
    "condition = arr_fancy%2==0\n",
    "arr_fancy[condition]"
   ]
  },
  {
   "cell_type": "code",
   "execution_count": 33,
   "id": "d7a94e2a-6f76-4c34-9a33-d6b553d0968c",
   "metadata": {},
   "outputs": [
    {
     "name": "stdout",
     "output_type": "stream",
     "text": [
      "[44 14 13 47 27 48 29  3 45]\n"
     ]
    },
    {
     "data": {
      "text/plain": [
       "array([[44, 14, 13],\n",
       "       [47, 27, 48],\n",
       "       [29,  3, 45]])"
      ]
     },
     "execution_count": 33,
     "metadata": {},
     "output_type": "execute_result"
    }
   ],
   "source": [
    "# Reshape a 1D array of size 9 into a 3×3 matrix.\n",
    "\n",
    "arr_reshape =  np.random.randint(0,50,size=9)\n",
    "print(arr_reshape)\n",
    "arr_reshape = arr_reshape.reshape((3,3))\n",
    "arr_reshape"
   ]
  },
  {
   "cell_type": "code",
   "execution_count": 34,
   "id": "3631f3ae-6008-4772-aa56-fa8ff8ce67c0",
   "metadata": {},
   "outputs": [
    {
     "data": {
      "text/plain": [
       "array([59, 52, 51, 57])"
      ]
     },
     "execution_count": 34,
     "metadata": {},
     "output_type": "execute_result"
    }
   ],
   "source": [
    "# Use boolean masking to filter numbers greater than 50 in an array.\n",
    "arr_booleanmask = np.random.randint(30,60,size=9)\n",
    "condn = arr_booleanmask > 50\n",
    "arr_booleanmask[condn]"
   ]
  },
  {
   "cell_type": "markdown",
   "id": "83fbbaf3",
   "metadata": {},
   "source": [
    "# MULTIDIMENSIONAL INDEXING AND AXIS"
   ]
  },
  {
   "cell_type": "code",
   "execution_count": 1,
   "id": "165acd18",
   "metadata": {},
   "outputs": [],
   "source": [
    "import numpy as np"
   ]
  },
  {
   "cell_type": "code",
   "execution_count": 2,
   "id": "c439ae8b",
   "metadata": {},
   "outputs": [
    {
     "data": {
      "text/plain": [
       "array([[1, 2, 3],\n",
       "       [4, 5, 6],\n",
       "       [7, 8, 9]])"
      ]
     },
     "execution_count": 2,
     "metadata": {},
     "output_type": "execute_result"
    }
   ],
   "source": [
    "arr = np.array([\n",
    "    [1,2,3],\n",
    "    [4,5,6],\n",
    "    [7,8,9]\n",
    "])\n",
    "arr"
   ]
  },
  {
   "cell_type": "code",
   "execution_count": 3,
   "id": "8e87f67a-ec39-4820-9722-08d963fc9a58",
   "metadata": {},
   "outputs": [
    {
     "data": {
      "text/plain": [
       "array([1, 2, 3])"
      ]
     },
     "execution_count": 3,
     "metadata": {},
     "output_type": "execute_result"
    }
   ],
   "source": [
    "arr[0]"
   ]
  },
  {
   "cell_type": "code",
   "execution_count": 4,
   "id": "174745ad-10ae-4a60-ad52-94e7201242ee",
   "metadata": {},
   "outputs": [
    {
     "data": {
      "text/plain": [
       "array([4, 5, 6])"
      ]
     },
     "execution_count": 4,
     "metadata": {},
     "output_type": "execute_result"
    }
   ],
   "source": [
    "arr[1]"
   ]
  },
  {
   "cell_type": "code",
   "execution_count": 5,
   "id": "7fa1b5a7-6108-4929-83f7-1dd5a1acaa17",
   "metadata": {},
   "outputs": [
    {
     "data": {
      "text/plain": [
       "array([12, 15, 18])"
      ]
     },
     "execution_count": 5,
     "metadata": {},
     "output_type": "execute_result"
    }
   ],
   "source": [
    "# axis =0, responds to column \n",
    "# axis = 1, respods to rows\n",
    "\n",
    "np.sum(arr,axis=0)  # all columns elements sum"
   ]
  },
  {
   "cell_type": "code",
   "execution_count": 6,
   "id": "a8ba8b4d-23b3-47de-a278-f7efd38944bb",
   "metadata": {},
   "outputs": [
    {
     "data": {
      "text/plain": [
       "array([ 6, 15, 24])"
      ]
     },
     "execution_count": 6,
     "metadata": {},
     "output_type": "execute_result"
    }
   ],
   "source": [
    "np.sum(arr,axis=1) # all rows elements sum"
   ]
  },
  {
   "cell_type": "code",
   "execution_count": 8,
   "id": "c329284a-7e93-48c6-a58a-3a98f20a6bbb",
   "metadata": {},
   "outputs": [
    {
     "data": {
      "text/plain": [
       "2"
      ]
     },
     "execution_count": 8,
     "metadata": {},
     "output_type": "execute_result"
    }
   ],
   "source": [
    "arr[0][1]"
   ]
  },
  {
   "cell_type": "code",
   "execution_count": 9,
   "id": "53135db9-f90e-4f91-8101-a9c4ea0ae542",
   "metadata": {},
   "outputs": [
    {
     "data": {
      "text/plain": [
       "2"
      ]
     },
     "execution_count": 9,
     "metadata": {},
     "output_type": "execute_result"
    }
   ],
   "source": [
    "arr[0,1] #0th row and 1st column"
   ]
  },
  {
   "cell_type": "code",
   "execution_count": 10,
   "id": "23064470-73e4-4263-8188-03194b751fa0",
   "metadata": {},
   "outputs": [
    {
     "data": {
      "text/plain": [
       "array([[2, 3],\n",
       "       [5, 6]])"
      ]
     },
     "execution_count": 10,
     "metadata": {},
     "output_type": "execute_result"
    }
   ],
   "source": [
    "arr[0:2, 1:3] #0:2-> returns rows 0 and 1, 1:3 -> return columns 1:2"
   ]
  },
  {
   "cell_type": "code",
   "execution_count": 11,
   "id": "7d3fb325-9e1a-448e-bb67-5b688f55603d",
   "metadata": {},
   "outputs": [
    {
     "name": "stdout",
     "output_type": "stream",
     "text": [
      "[[[ 1  2  3]\n",
      "  [ 4  5  6]]\n",
      "\n",
      " [[ 7  8  9]\n",
      "  [10 11 12]]]\n",
      "(2, 2, 3)\n"
     ]
    }
   ],
   "source": [
    "arr3D = np.array([[[1, 2, 3], [4, 5, 6]],\n",
    "                  [[7, 8, 9], [10, 11, 12]]])\n",
    "\n",
    "print(arr3D)\n",
    "print(arr3D.shape)"
   ]
  },
  {
   "cell_type": "code",
   "execution_count": 12,
   "id": "4e3492ba-2c9b-4193-b619-1710249d42e4",
   "metadata": {},
   "outputs": [
    {
     "data": {
      "text/plain": [
       "6"
      ]
     },
     "execution_count": 12,
     "metadata": {},
     "output_type": "execute_result"
    }
   ],
   "source": [
    "arr3D[0,1,2]"
   ]
  },
  {
   "cell_type": "code",
   "execution_count": 13,
   "id": "d981fe88-c606-41b1-87e4-333e22676991",
   "metadata": {},
   "outputs": [
    {
     "data": {
      "text/plain": [
       "array([[1, 2, 3],\n",
       "       [7, 8, 9]])"
      ]
     },
     "execution_count": 13,
     "metadata": {},
     "output_type": "execute_result"
    }
   ],
   "source": [
    "arr3D[:,0,:]"
   ]
  },
  {
   "cell_type": "markdown",
   "id": "5876ede0-a7c7-4f08-8059-dfb4fc2a0426",
   "metadata": {},
   "source": []
  },
  {
   "cell_type": "markdown",
   "id": "ce23ae52-2ff7-4e46-9579-66924e7426cb",
   "metadata": {},
   "source": [
    "# NUMPY DATA TYPES "
   ]
  },
  {
   "cell_type": "markdown",
   "id": "1bd31b64-bfc7-4b0b-b202-c5988c7b3c76",
   "metadata": {},
   "source": [
    "# NUMPY DATATYPES"
   ]
  },
  {
   "cell_type": "code",
   "execution_count": 17,
   "id": "ddc04cc5-2659-423a-8893-13ff5b04112c",
   "metadata": {},
   "outputs": [
    {
     "data": {
      "text/plain": [
       "dtype('int64')"
      ]
     },
     "execution_count": 17,
     "metadata": {},
     "output_type": "execute_result"
    }
   ],
   "source": [
    "arr = np.array([23,4,3,23])\n",
    "arr.dtype"
   ]
  },
  {
   "cell_type": "code",
   "execution_count": 18,
   "id": "debb8a68-95f4-449c-a8d7-c56ea2beb40f",
   "metadata": {},
   "outputs": [
    {
     "data": {
      "text/plain": [
       "array([23.,  4.,  3., 23.])"
      ]
     },
     "execution_count": 18,
     "metadata": {},
     "output_type": "execute_result"
    }
   ],
   "source": [
    "arr.astype(\"float64\")"
   ]
  },
  {
   "cell_type": "code",
   "execution_count": 19,
   "id": "1119b6f4-a323-4540-9965-b7455bf07382",
   "metadata": {},
   "outputs": [
    {
     "data": {
      "text/plain": [
       "dtype('int64')"
      ]
     },
     "execution_count": 19,
     "metadata": {},
     "output_type": "execute_result"
    }
   ],
   "source": [
    "arr.dtype"
   ]
  },
  {
   "cell_type": "code",
   "execution_count": 20,
   "id": "58f74544-4d78-477d-87bf-d841dd9a781b",
   "metadata": {},
   "outputs": [
    {
     "data": {
      "text/plain": [
       "32"
      ]
     },
     "execution_count": 20,
     "metadata": {},
     "output_type": "execute_result"
    }
   ],
   "source": [
    "arr.nbytes"
   ]
  },
  {
   "cell_type": "markdown",
   "id": "e8a874b9-6b56-4b07-b437-c18c9c9b7d0c",
   "metadata": {},
   "source": [
    "# NUMPY BROADCASTING"
   ]
  },
  {
   "cell_type": "code",
   "execution_count": 21,
   "id": "fc305bc1-179b-4850-b783-959cfd70172e",
   "metadata": {},
   "outputs": [],
   "source": [
    "arr = np.array([1,2,3,4,5])\n",
    "result = arr + 10 "
   ]
  },
  {
   "cell_type": "code",
   "execution_count": 23,
   "id": "b58d976a-a269-428e-8f52-78e6172c8b60",
   "metadata": {},
   "outputs": [
    {
     "data": {
      "text/plain": [
       "array([11, 12, 13, 14, 15])"
      ]
     },
     "execution_count": 23,
     "metadata": {},
     "output_type": "execute_result"
    }
   ],
   "source": [
    "result\n",
    "\n",
    "\n",
    "# [1,2,3,4,5] + [10,10,10,10,10] = [11,12,13,14,15]"
   ]
  },
  {
   "cell_type": "code",
   "execution_count": 24,
   "id": "95b3081f-3a24-4e58-8f4b-fdc250c21366",
   "metadata": {},
   "outputs": [
    {
     "name": "stdout",
     "output_type": "stream",
     "text": [
      "[[2 4 6]\n",
      " [5 7 9]]\n"
     ]
    }
   ],
   "source": [
    "arr1 = np.array([[1, 2, 3], [4, 5, 6]])\n",
    "arr2 = np.array([1, 2, 3])\n",
    " \n",
    "result = arr1 + arr2  # Broadcasting arr2 across arr1\n",
    "print(result)\n",
    "# Output:\n",
    "# [[2 4 6]\n",
    "#  [5 7 9]]\n",
    "\n"
   ]
  },
  {
   "cell_type": "markdown",
   "id": "08f7c10b-7d04-403a-a0ee-0816b3c9a433",
   "metadata": {},
   "source": [
    "# numpy mathematical functions"
   ]
  },
  {
   "cell_type": "code",
   "execution_count": 3,
   "id": "75be8b4e-4a2c-4911-bd45-47ad845e3340",
   "metadata": {},
   "outputs": [],
   "source": [
    "import numpy as np\n",
    "arr = np.array([3,5,2,33])"
   ]
  },
  {
   "cell_type": "code",
   "execution_count": 4,
   "id": "86154c8f-9db4-4165-9bee-2f9a17e3903c",
   "metadata": {},
   "outputs": [
    {
     "data": {
      "text/plain": [
       "array([ 3,  5,  2, 33])"
      ]
     },
     "execution_count": 4,
     "metadata": {},
     "output_type": "execute_result"
    }
   ],
   "source": [
    "arr"
   ]
  },
  {
   "cell_type": "code",
   "execution_count": 5,
   "id": "75308fb2-6260-4317-9cb1-a5497521c0de",
   "metadata": {},
   "outputs": [
    {
     "data": {
      "text/plain": [
       "10.75"
      ]
     },
     "execution_count": 5,
     "metadata": {},
     "output_type": "execute_result"
    }
   ],
   "source": [
    "np.mean(arr)"
   ]
  },
  {
   "cell_type": "code",
   "execution_count": 6,
   "id": "fb0a6044-7bce-4cea-ac77-8d737b5dc618",
   "metadata": {},
   "outputs": [
    {
     "data": {
      "text/plain": [
       "2"
      ]
     },
     "execution_count": 6,
     "metadata": {},
     "output_type": "execute_result"
    }
   ],
   "source": [
    "np.min(arr)"
   ]
  },
  {
   "cell_type": "code",
   "execution_count": 7,
   "id": "7f96cd11-4b6a-4b7e-8608-3098ccfc4131",
   "metadata": {},
   "outputs": [
    {
     "data": {
      "text/plain": [
       "33"
      ]
     },
     "execution_count": 7,
     "metadata": {},
     "output_type": "execute_result"
    }
   ],
   "source": [
    "np.max(arr)"
   ]
  },
  {
   "cell_type": "code",
   "execution_count": 8,
   "id": "0b69bdd2-7487-4560-896b-3d8099a12e2e",
   "metadata": {},
   "outputs": [
    {
     "data": {
      "text/plain": [
       "166.1875"
      ]
     },
     "execution_count": 8,
     "metadata": {},
     "output_type": "execute_result"
    }
   ],
   "source": [
    "np.var(arr)"
   ]
  },
  {
   "cell_type": "code",
   "execution_count": 9,
   "id": "0019cfa1-74cd-409e-abf3-5cdac75bcaed",
   "metadata": {},
   "outputs": [
    {
     "data": {
      "text/plain": [
       "12.891373084353738"
      ]
     },
     "execution_count": 9,
     "metadata": {},
     "output_type": "execute_result"
    }
   ],
   "source": [
    "np.std(arr)"
   ]
  },
  {
   "cell_type": "code",
   "execution_count": 10,
   "id": "98ec35c2-cc9e-4c1a-b941-fd2ede3c7ed0",
   "metadata": {},
   "outputs": [
    {
     "data": {
      "text/plain": [
       "43"
      ]
     },
     "execution_count": 10,
     "metadata": {},
     "output_type": "execute_result"
    }
   ],
   "source": [
    "np.sum(arr)"
   ]
  },
  {
   "cell_type": "code",
   "execution_count": 11,
   "id": "0f59f57e-2a14-4855-a3d8-d4a854d42b19",
   "metadata": {},
   "outputs": [
    {
     "data": {
      "text/plain": [
       "990"
      ]
     },
     "execution_count": 11,
     "metadata": {},
     "output_type": "execute_result"
    }
   ],
   "source": [
    "np.prod(arr)"
   ]
  },
  {
   "cell_type": "code",
   "execution_count": 14,
   "id": "357c8d24-140d-40da-b63b-f8c135053475",
   "metadata": {},
   "outputs": [
    {
     "data": {
      "text/plain": [
       "4.0"
      ]
     },
     "execution_count": 14,
     "metadata": {},
     "output_type": "execute_result"
    }
   ],
   "source": [
    "np.percentile(arr,50)"
   ]
  },
  {
   "cell_type": "code",
   "execution_count": 15,
   "id": "3f74ae21-88fb-45cc-a6e4-0c6762820d9a",
   "metadata": {},
   "outputs": [
    {
     "data": {
      "text/plain": [
       "2"
      ]
     },
     "execution_count": 15,
     "metadata": {},
     "output_type": "execute_result"
    }
   ],
   "source": [
    "np.argmin(arr)"
   ]
  },
  {
   "cell_type": "code",
   "execution_count": 16,
   "id": "9534df67-6104-4e17-8e03-608613ea80fb",
   "metadata": {},
   "outputs": [
    {
     "data": {
      "text/plain": [
       "3"
      ]
     },
     "execution_count": 16,
     "metadata": {},
     "output_type": "execute_result"
    }
   ],
   "source": [
    "np.argmax(arr)"
   ]
  },
  {
   "cell_type": "code",
   "execution_count": 17,
   "id": "06ce1a10-3c48-4d0b-a6f3-0c28c6e9259e",
   "metadata": {},
   "outputs": [
    {
     "data": {
      "text/plain": [
       "array([ 2,  3,  5, 33])"
      ]
     },
     "execution_count": 17,
     "metadata": {},
     "output_type": "execute_result"
    }
   ],
   "source": [
    "np.unique(arr)"
   ]
  },
  {
   "cell_type": "markdown",
   "id": "09d17a60-bb3e-414f-9657-bae19f37b1a0",
   "metadata": {},
   "source": [
    "## for more mathematical functions we can check the official documentation or w3school website or gfg website "
   ]
  },
  {
   "cell_type": "code",
   "execution_count": 18,
   "id": "8b572df4-2667-4ef9-9aa9-e7ea4615e708",
   "metadata": {},
   "outputs": [
    {
     "name": "stdout",
     "output_type": "stream",
     "text": [
      "that's it!!, now moving on to pandas!!\n"
     ]
    }
   ],
   "source": [
    "print(\"that's it!!, now moving on to pandas!!\")"
   ]
  },
  {
   "cell_type": "code",
   "execution_count": null,
   "id": "23fa54de-c760-48b3-954e-abdd84887f3f",
   "metadata": {},
   "outputs": [],
   "source": []
  }
 ],
 "metadata": {
  "kernelspec": {
   "display_name": "Python 3 (ipykernel)",
   "language": "python",
   "name": "python3"
  },
  "language_info": {
   "codemirror_mode": {
    "name": "ipython",
    "version": 3
   },
   "file_extension": ".py",
   "mimetype": "text/x-python",
   "name": "python",
   "nbconvert_exporter": "python",
   "pygments_lexer": "ipython3",
   "version": "3.12.7"
  }
 },
 "nbformat": 4,
 "nbformat_minor": 5
}
